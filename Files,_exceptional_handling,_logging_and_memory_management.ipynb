{
  "nbformat": 4,
  "nbformat_minor": 0,
  "metadata": {
    "colab": {
      "provenance": []
    },
    "kernelspec": {
      "name": "python3",
      "display_name": "Python 3"
    },
    "language_info": {
      "name": "python"
    }
  },
  "cells": [
    {
      "cell_type": "code",
      "execution_count": null,
      "metadata": {
        "id": "eCvWVpfRe24s"
      },
      "outputs": [],
      "source": []
    },
    {
      "cell_type": "code",
      "source": [],
      "metadata": {
        "id": "pXI4TcUaKgva"
      },
      "execution_count": null,
      "outputs": []
    },
    {
      "cell_type": "markdown",
      "source": [
        "Q1-->What is the difference between interpreted and compiled languages?\n",
        "\n",
        "Ans->The main difference between compiled and interpreted languages is how the code is processed before it's run.\n",
        "Compiled languages: The code is converted to machine code once, and then the machine can execute it.\n",
        "Interpreted languages: The code is compiled each time the program is run.\n",
        "\n",
        "Q2-->What is exception handling in Python?\n",
        "\n",
        "Ans->Exception handling in Python is a way to manage errors that occur while a program is running.\n",
        "\n",
        "Q3-->What is the purpose of the finally block in exception handling?\n",
        "\n",
        "Ans->The purpose of a finally block in exception handling is to ensure that important code is executed regardless of whether an exception is thrown.\n",
        "\n",
        "Q4-->What is logging in Python?\n",
        "\n",
        "Ans->Python logging is a module that tracks events that occur while a program is running. It's a useful tool for debugging, troubleshooting, and monitoring programs.\n",
        "\n",
        "Q5-->What is the significance of the __del__ method in Python?\n",
        "\n",
        "Ans->The __del__ method is a special method in Python that is called when an object is about to be destroyed. It allows you to define specific cleanup actions that should be taken when an object is garbage collected.\n",
        "\n",
        "Q6-->What is the difference between import and from ... import in Python?\n",
        "\n",
        "Ans->The import statement imports the entire module into the current namespace, which can lead to namespace pollution and naming conflicts. The from statement imports only the specified attributes, which can help to avoid these issues.\n",
        "\n",
        "Q7-->How can you handle multiple exceptions in Python?\n",
        "\n",
        "Ans->In Python, you can handle multiple exceptions in a single try-except block by using a tuple of exception types.\n",
        "\n",
        "Q8-->What is the purpose of the with statement when handling files in Python?\n",
        "\n",
        "Ans->The with statement in Python helps manage resources, like files, by ensuring they are closed after use.\n",
        "\n",
        "Q9-->What is the difference between multithreading and multiprocessing?\n",
        "\n",
        "Ans->Multithreading is the ability to run multiple threads within a single process, while multiprocessing is the ability to run multiple processes on multiple processors.\n",
        "\n",
        "Q10->What are the advantages of using logging in a program?\n",
        "\n",
        "Ans->Logging in a program helps developers identify and fix problems, monitor performance, and improve security. It can also help improve customer experience and reduce response times.\n",
        "\n",
        "Q11->What is memory management in Python?\n",
        "\n",
        "Ans->Memory management in Python is the process of allocating and freeing up memory for programs to run efficiently. Python automatically handles memory management tasks, which can improve program performance and reduce memory usage.\n",
        "\n",
        "Q12->What are the basic steps involved in exception handling in Python?\n",
        "\n",
        "Ans->Try block: Tests code for errors\n",
        "\n",
        "Except block: Handles errors that occur in the try block\n",
        "\n",
        "Else block: Runs code if no exceptions occur in the try block\n",
        "\n",
        "Finally block: Runs code regardless of whether an exception occurs\n",
        "\n",
        "Q13->Why is memory management important in Python?\n",
        "\n",
        "Ans->Why is memory management important in Python?\n",
        "\n",
        "Ans-> it helps to write efficient code, reduce the risk of errors, and prevent memory leaks.\n",
        "\n",
        "Q14->What is the role of try and except in exception handling?\n",
        "\n",
        "Ans->the try and except blocks are used to handle exceptions, or errors, in a program.\n",
        "\n",
        "Q15->How does Python's garbage collection system work?\n",
        "\n",
        "Ans->Python's garbage collection system automatically removes objects from memory that are no longer in use. It uses a combination of reference counting and generational garbage collection to manage memory.\n",
        "\n",
        "Q16->What is the purpose of the else block in exception handling?\n",
        "\n",
        "Ans->The purpose of the else block in exception handling is to execute code when no exceptions occur in the try block.\n",
        "\n",
        "Q17->What are the common logging levels in Python?\n",
        "\n",
        "Ans->Python has six log levels with each one assigned a specific integer indicating the severity of the log:\n",
        "\n",
        "NOTSET=0\n",
        "\n",
        "DEBUG=10\n",
        "\n",
        "INFO=20\n",
        "\n",
        "WARN=30\n",
        "\n",
        "ERROR=40\n",
        "\n",
        "CRITICAL=50\n",
        "\n",
        "Q18->What is the difference between os.fork() and multiprocessing in Python?\n",
        "\n",
        "Ans->fork\n",
        "\n",
        "The parent process uses os.fork() to fork the Python interpreter. The child process, when it begins, is effectively identical to the parent process. All resources of the parent are inherited by the child process. Note that safely forking a multithreaded process is problematic.\n",
        "\n",
        "multiprocessing\n",
        "\n",
        "multiprocessing is a package that supports spawning processes using an API similar to the threading module. The multiprocessing package offers both local and remote concurrency, effectively side-stepping the Global Interpreter Lock by using subprocesses instead of threads.\n",
        "\n",
        "Q19->What is the importance of closing a file in Python?\n",
        "\n",
        "Ans->Closing a file after use is important because it frees up system resources that are being used by the file.\n",
        "\n",
        "Q20->What is the difference between file.read() and file.readline() in Python?\n",
        "\n",
        "Ans->The read() method can be used to read all text from a file, while the readline() method is typically used for reading lines of text from a file.\n",
        "\n",
        "Q21->What is the logging module in Python used for?\n",
        "\n",
        "Ans->The logging module in Python is used to track events that happen while a program is running.\n",
        "\n",
        "Q22->What is the os module in Python used for in file handling?\n",
        "\n",
        "Ans->Python has a built-in os module with methods for interacting with the operating system, like creating files and directories, management of files and directories, input, output, environment variables, process management, etc.\n",
        "\n",
        "Q23->What are the challenges associated with memory management in Python?\n",
        "\n",
        "Ans->Memory management in Python can be challenging because of:\n",
        "\n",
        "Memory leaks\n",
        "\n",
        "Unused memory can accumulate over time, leading to memory exhaustion and performance degradation.\n",
        "\n",
        "Slower program runtimes\n",
        "\n",
        "Python sometimes holds freed memory in the interpreter instead of freeing it up for the operating system.\n",
        "\n",
        "Inefficient memory usage\n",
        "\n",
        "Python's small object manager rarely returns memory back to the operating system.\n",
        "\n",
        "Q24->How do you raise an exception manually in Python?\n",
        "\n",
        "Ans->use the raise keyword.\n",
        "\n",
        "Q25-> Why is it important to use multithreading in certain applications?\n",
        "\n",
        "Ans->Multithreading is important in certain applications because it can improve performance, scalability, and responsiveness. It allows multiple threads to run simultaneously, which can help applications use system resources more efficiently.\n"
      ],
      "metadata": {
        "id": "OQUE_vn8e6BY"
      }
    },
    {
      "cell_type": "code",
      "source": [],
      "metadata": {
        "id": "nBHMM00nx82_"
      },
      "execution_count": null,
      "outputs": []
    },
    {
      "cell_type": "markdown",
      "source": [
        "# Pactical questions"
      ],
      "metadata": {
        "id": "coUAb7Dex-mG"
      }
    },
    {
      "cell_type": "markdown",
      "source": [
        "Q1->How can you open a file for writing in Python and write a string to it?"
      ],
      "metadata": {
        "id": "wfJO_vIqzB9I"
      }
    },
    {
      "cell_type": "code",
      "source": [
        "f=open(\"text.txt\",\"w\")\n",
        "f.write(\"hello world\")\n",
        "f.close()"
      ],
      "metadata": {
        "id": "YQzTVhhPzKLK"
      },
      "execution_count": 1,
      "outputs": []
    },
    {
      "cell_type": "markdown",
      "source": [
        "Q2->Write a Python program to read the contents of a file and print each line."
      ],
      "metadata": {
        "id": "AvTDgKjezlbJ"
      }
    },
    {
      "cell_type": "code",
      "source": [
        "f=open(\"text.txt\",\"r\")\n",
        "print(f.read())\n",
        "f.close()"
      ],
      "metadata": {
        "colab": {
          "base_uri": "https://localhost:8080/"
        },
        "id": "i6BvBHxrzAhx",
        "outputId": "1d236560-cc09-48e7-c3b9-c0938ad2632b"
      },
      "execution_count": 2,
      "outputs": [
        {
          "output_type": "stream",
          "name": "stdout",
          "text": [
            "hello world\n"
          ]
        }
      ]
    },
    {
      "cell_type": "markdown",
      "source": [
        "Q3->How would you handle a case where the file doesn't exist while trying to open it for reading?"
      ],
      "metadata": {
        "id": "X4XCEcVI0E57"
      }
    },
    {
      "cell_type": "code",
      "source": [
        "try:\n",
        "    f = open('my_file.txt',\"r\")\n",
        "    b=f.readfile()\n",
        "    print(b)\n",
        "except:\n",
        "    print('file does not exist')"
      ],
      "metadata": {
        "colab": {
          "base_uri": "https://localhost:8080/"
        },
        "id": "kwVoTeYH0zdi",
        "outputId": "dbe2ecf8-f203-43de-b354-1c4a4b783f9e"
      },
      "execution_count": 3,
      "outputs": [
        {
          "output_type": "stream",
          "name": "stdout",
          "text": [
            "file does not exist\n"
          ]
        }
      ]
    },
    {
      "cell_type": "markdown",
      "source": [
        "Q4->Write a Python script that reads from one file and writes its content to another file.\n"
      ],
      "metadata": {
        "id": "J7hQmC5b0ORi"
      }
    },
    {
      "cell_type": "code",
      "source": [
        "f=open(\"text.txt\",\"r\")\n",
        "f1=open(\"text1.txt\",\"w\")\n",
        "f1.write(f.read())\n",
        "f1.close()\n",
        "f.close()"
      ],
      "metadata": {
        "id": "i7nhVWdC1XWh"
      },
      "execution_count": 4,
      "outputs": []
    },
    {
      "cell_type": "markdown",
      "source": [
        "Q5-> How would you catch and handle division by zero error in Python?"
      ],
      "metadata": {
        "id": "SnR2ETEU1_I5"
      }
    },
    {
      "cell_type": "code",
      "source": [
        "numerator = 10\n",
        "denominator = 0\n",
        "result = numerator / denominator\n",
        "print(result)"
      ],
      "metadata": {
        "colab": {
          "base_uri": "https://localhost:8080/",
          "height": 193
        },
        "id": "Cr23j2so2Jss",
        "outputId": "3e1424f4-a8b8-43fc-c54b-34df3f2e05b9"
      },
      "execution_count": 7,
      "outputs": [
        {
          "output_type": "error",
          "ename": "ZeroDivisionError",
          "evalue": "division by zero",
          "traceback": [
            "\u001b[0;31m---------------------------------------------------------------------------\u001b[0m",
            "\u001b[0;31mZeroDivisionError\u001b[0m                         Traceback (most recent call last)",
            "\u001b[0;32m<ipython-input-7-0de7ac085560>\u001b[0m in \u001b[0;36m<cell line: 0>\u001b[0;34m()\u001b[0m\n\u001b[1;32m      1\u001b[0m \u001b[0mnumerator\u001b[0m \u001b[0;34m=\u001b[0m \u001b[0;36m10\u001b[0m\u001b[0;34m\u001b[0m\u001b[0;34m\u001b[0m\u001b[0m\n\u001b[1;32m      2\u001b[0m \u001b[0mdenominator\u001b[0m \u001b[0;34m=\u001b[0m \u001b[0;36m0\u001b[0m\u001b[0;34m\u001b[0m\u001b[0;34m\u001b[0m\u001b[0m\n\u001b[0;32m----> 3\u001b[0;31m \u001b[0mresult\u001b[0m \u001b[0;34m=\u001b[0m \u001b[0mnumerator\u001b[0m \u001b[0;34m/\u001b[0m \u001b[0mdenominator\u001b[0m\u001b[0;34m\u001b[0m\u001b[0;34m\u001b[0m\u001b[0m\n\u001b[0m\u001b[1;32m      4\u001b[0m \u001b[0mprint\u001b[0m\u001b[0;34m(\u001b[0m\u001b[0mresult\u001b[0m\u001b[0;34m)\u001b[0m\u001b[0;34m\u001b[0m\u001b[0;34m\u001b[0m\u001b[0m\n",
            "\u001b[0;31mZeroDivisionError\u001b[0m: division by zero"
          ]
        }
      ]
    },
    {
      "cell_type": "markdown",
      "source": [
        "Q6->Write a Python program that logs an error message to a log file when a division by zero exception occurs."
      ],
      "metadata": {
        "id": "QkjhXF7-2HMo"
      }
    },
    {
      "cell_type": "code",
      "source": [
        "numerator = 10\n",
        "denominator = 0\n",
        "\n",
        "if denominator != 0:\n",
        "    result = numerator / denominator\n",
        "else:\n",
        "    print(\"Error: Cannot divide by zero.\")"
      ],
      "metadata": {
        "colab": {
          "base_uri": "https://localhost:8080/"
        },
        "id": "M0Lz1Ekv24H_",
        "outputId": "aecdd1bf-f602-439b-cbaf-30dc02aee825"
      },
      "execution_count": 8,
      "outputs": [
        {
          "output_type": "stream",
          "name": "stdout",
          "text": [
            "Error: Cannot divide by zero.\n"
          ]
        }
      ]
    },
    {
      "cell_type": "markdown",
      "source": [
        "Q7->How do you log information at different levels (INFO, ERROR, WARNING) in Python using the logging module?"
      ],
      "metadata": {
        "id": "Id3-XU9M3kdi"
      }
    },
    {
      "cell_type": "code",
      "source": [
        "# importing module\n",
        "import logging\n",
        "\n",
        "# Create and configure logger\n",
        "logging.basicConfig(filename=\"newfile.log\",\n",
        "                    format='%(asctime)s %(message)s',\n",
        "                    filemode='w')\n",
        "\n",
        "# Creating an object\n",
        "logger = logging.getLogger()\n",
        "\n",
        "# Test messages\n",
        "logger.info(\"Just an information\")\n",
        "logger.warning(\"Its a Warning\")\n",
        "logger.error(\"Did you try to divide by zero\")\n"
      ],
      "metadata": {
        "colab": {
          "base_uri": "https://localhost:8080/"
        },
        "id": "dGomB7p34ANT",
        "outputId": "84272215-6cf4-47e7-928f-21561a3af63e"
      },
      "execution_count": 9,
      "outputs": [
        {
          "output_type": "stream",
          "name": "stderr",
          "text": [
            "WARNING:root:Its a Warning\n",
            "ERROR:root:Did you try to divide by zero\n"
          ]
        }
      ]
    },
    {
      "cell_type": "markdown",
      "source": [
        "Q8->Write a program to handle a file opening error using exception handling."
      ],
      "metadata": {
        "id": "bHhzXbTx4jGR"
      }
    },
    {
      "cell_type": "code",
      "source": [
        "try:\n",
        "    f = open('my_file.txt',\"r\")\n",
        "    b=f.readfile()\n",
        "    print(b)\n",
        "except:\n",
        "    print('file does not exist')"
      ],
      "metadata": {
        "colab": {
          "base_uri": "https://localhost:8080/"
        },
        "id": "n2g_iPT74q5a",
        "outputId": "df137c07-e1fb-403f-ac4f-8094ca834b0b"
      },
      "execution_count": 10,
      "outputs": [
        {
          "output_type": "stream",
          "name": "stdout",
          "text": [
            "file does not exist\n"
          ]
        }
      ]
    },
    {
      "cell_type": "markdown",
      "source": [
        "Q9->How can you read a file line by line and store its content in a list in Python?"
      ],
      "metadata": {
        "id": "HUcjQOl94_zw"
      }
    },
    {
      "cell_type": "code",
      "source": [
        "f=open(\"text.txt\",\"r\")\n",
        "print(f.readlines())\n",
        "f.close()"
      ],
      "metadata": {
        "colab": {
          "base_uri": "https://localhost:8080/"
        },
        "id": "9Bg_79Yt5Fco",
        "outputId": "ce68ad9d-8d95-4308-c32c-0ce585353577"
      },
      "execution_count": 11,
      "outputs": [
        {
          "output_type": "stream",
          "name": "stdout",
          "text": [
            "['hello world']\n"
          ]
        }
      ]
    },
    {
      "cell_type": "markdown",
      "source": [
        "Q10->How can you append data to an existing file in Python?"
      ],
      "metadata": {
        "id": "NLC4jwDm5Xt4"
      }
    },
    {
      "cell_type": "code",
      "source": [
        "f=open(\"text.txt\",\"a\")\n",
        "f.write(\"hello world\")\n",
        "f.close()"
      ],
      "metadata": {
        "id": "vIEPF18i5dkA"
      },
      "execution_count": 12,
      "outputs": []
    },
    {
      "cell_type": "markdown",
      "source": [
        "Q11-> Write a Python program that uses a try-except block to handle an error when attempting to access a dictionary key that doesn't exist."
      ],
      "metadata": {
        "id": "CP1YG1yP51an"
      }
    },
    {
      "cell_type": "code",
      "source": [
        "dict = {\"These\": 1, \"are\": 2, \"words\": 3}\n",
        "try:\n",
        "  w = input(\"Enter a word: \")\n",
        "  dict[w]\n",
        "except KeyError:\n",
        "  print(\"That word is not a key in the dictionary, try again\")\n",
        "else:\n",
        "  print(\"That word is a key in the dictionary\")"
      ],
      "metadata": {
        "colab": {
          "base_uri": "https://localhost:8080/"
        },
        "id": "OiKnunzL5_Su",
        "outputId": "c541d575-6687-42ee-fe36-887792b08e93"
      },
      "execution_count": 16,
      "outputs": [
        {
          "output_type": "stream",
          "name": "stdout",
          "text": [
            "Enter a word: are\n",
            "That word is a key in the dictionary\n"
          ]
        }
      ]
    },
    {
      "cell_type": "markdown",
      "source": [
        "Q12->Write a program that demonstrates using multiple except blocks to handle different types of exceptions."
      ],
      "metadata": {
        "id": "okqm-4cj70ON"
      }
    },
    {
      "cell_type": "code",
      "source": [
        "try:\n",
        "  f = open('text2.txt')\n",
        "except OSError:\n",
        "  print('It failed')\n",
        "except FileNotFoundError:\n",
        "  print('File not found')\n"
      ],
      "metadata": {
        "colab": {
          "base_uri": "https://localhost:8080/"
        },
        "id": "E8UC9HGz76F2",
        "outputId": "afe8d922-8dad-43ff-d5a8-32779ff965ff"
      },
      "execution_count": 22,
      "outputs": [
        {
          "output_type": "stream",
          "name": "stdout",
          "text": [
            "It failed\n"
          ]
        }
      ]
    },
    {
      "cell_type": "markdown",
      "source": [
        "Q13->How would you check if a file exists before attempting to read it in Python?"
      ],
      "metadata": {
        "id": "-hxFdnaW9nBb"
      }
    },
    {
      "cell_type": "code",
      "source": [
        "import os\n",
        "# Python Check if file exists\n",
        "if os.path.exists('text.txt'):\n",
        "    print(\"File exists\")\n",
        "else:\n",
        "    print(\"File does not exist\")"
      ],
      "metadata": {
        "colab": {
          "base_uri": "https://localhost:8080/"
        },
        "id": "LTu1td2d-Tgh",
        "outputId": "ac0dcef5-581f-456c-8577-54bba2097787"
      },
      "execution_count": 23,
      "outputs": [
        {
          "output_type": "stream",
          "name": "stdout",
          "text": [
            "File exists\n"
          ]
        }
      ]
    },
    {
      "cell_type": "markdown",
      "source": [
        "Q14->Write a program that uses the logging module to log both informational and error messages."
      ],
      "metadata": {
        "id": "5xmKLCNP-YEP"
      }
    },
    {
      "cell_type": "code",
      "source": [
        "# importing module\n",
        "import logging\n",
        "\n",
        "# Create and configure logger\n",
        "logging.basicConfig(filename=\"newfile.log\",\n",
        "                    format='%(asctime)s %(message)s',\n",
        "                    filemode='w')\n",
        "\n",
        "# Creating an object\n",
        "logger = logging.getLogger()\n",
        "\n",
        "# Test messages\n",
        "logger.info(\"Just an information\")\n",
        "logger.error(\"Did you try to divide by zero\")"
      ],
      "metadata": {
        "colab": {
          "base_uri": "https://localhost:8080/"
        },
        "id": "-SFWbAEy-jo_",
        "outputId": "806d8a6f-b80b-4e4d-8ecb-8b9309f3c160"
      },
      "execution_count": 24,
      "outputs": [
        {
          "output_type": "stream",
          "name": "stderr",
          "text": [
            "ERROR:root:Did you try to divide by zero\n"
          ]
        }
      ]
    },
    {
      "cell_type": "markdown",
      "source": [
        "Q15->Write a Python program that prints the content of a file and handles the case when the file is empty."
      ],
      "metadata": {
        "id": "GxJ4zTWk_cYz"
      }
    },
    {
      "cell_type": "code",
      "source": [
        "f=open(\"text1.txt\",\"r\")\n",
        "if f.read()==\"\":\n",
        "  print(\"file is empty\")\n",
        "else:\n",
        "  print(f.read())"
      ],
      "metadata": {
        "colab": {
          "base_uri": "https://localhost:8080/"
        },
        "id": "scgsOWEe_iOj",
        "outputId": "1987c8fa-6bf0-4f60-a7bf-96eb0ddf6a88"
      },
      "execution_count": 27,
      "outputs": [
        {
          "output_type": "stream",
          "name": "stdout",
          "text": [
            "\n"
          ]
        }
      ]
    },
    {
      "cell_type": "markdown",
      "source": [
        "Q16->Demonstrate how to use memory profiling to check the memory usage of a small program."
      ],
      "metadata": {
        "id": "SQGQcODrAnRd"
      }
    },
    {
      "cell_type": "code",
      "source": [
        "import sys\n",
        "sys.getsizeof({})\n",
        "sys.getsizeof(())\n",
        "sys.getsizeof({})"
      ],
      "metadata": {
        "colab": {
          "base_uri": "https://localhost:8080/"
        },
        "id": "E5iQaSHRA888",
        "outputId": "69e05345-e26b-4c6e-a166-eadeb4e10758"
      },
      "execution_count": 30,
      "outputs": [
        {
          "output_type": "execute_result",
          "data": {
            "text/plain": [
              "64"
            ]
          },
          "metadata": {},
          "execution_count": 30
        }
      ]
    },
    {
      "cell_type": "markdown",
      "source": [
        "Q17->Write a Python program to create and write a list of numbers to a file, one number per line."
      ],
      "metadata": {
        "id": "TkIQ3cx8BRc8"
      }
    },
    {
      "cell_type": "code",
      "source": [
        "f=open(\"text2.txt\",\"w\")\n",
        "l=[1,2,3,4,5,6,7,8,9]\n",
        "for i in l:\n",
        "  f.write(str(i))\n",
        "  f.write(\"\\n\")\n",
        "f.close()"
      ],
      "metadata": {
        "id": "U5To9pYvBaPv"
      },
      "execution_count": 32,
      "outputs": []
    },
    {
      "cell_type": "markdown",
      "source": [
        "Q18->How would you implement a basic logging setup that logs to a file with rotation after 1MB?"
      ],
      "metadata": {
        "id": "jMMS-gc5CEx0"
      }
    },
    {
      "cell_type": "code",
      "source": [
        "# Create a logger\n",
        "logger = logging.getLogger('my_logger')\n",
        "logger.setLevel(logging.DEBUG)\n",
        "\n",
        "# Create a rotating file handler\n",
        "handler = logging.handlers.RotatingFileHandler(\n",
        "    'my_log.log', maxBytes=1024)\n",
        "\n",
        "# Set the formatter for the handler\n",
        "formatter = logging.Formatter('%(name)s - %(levelname)s - %(message)s')\n",
        "handler.setFormatter(formatter)\n",
        "\n",
        "# Add the handler to the logger\n",
        "logger.addHandler(handler)\n",
        "\n",
        "# Test the logger\n",
        "logger.debug('Debug message')\n"
      ],
      "metadata": {
        "colab": {
          "base_uri": "https://localhost:8080/"
        },
        "id": "xIM9dXDUDMaV",
        "outputId": "ea95f3c2-1727-4fe0-f6fa-07e1c457c4f9"
      },
      "execution_count": 37,
      "outputs": [
        {
          "output_type": "stream",
          "name": "stderr",
          "text": [
            "DEBUG:my_logger:Debug message\n"
          ]
        }
      ]
    },
    {
      "cell_type": "markdown",
      "source": [
        "Q19->Write a program that handles both IndexError and KeyError using a try-except block."
      ],
      "metadata": {
        "id": "Y5ILewnwEqJ7"
      }
    },
    {
      "cell_type": "code",
      "source": [
        "d={\"a\":1,\"b\":2,\"c\":3}\n",
        "a=input(\"enter a key\")\n",
        "try:\n",
        "  print(d[a])\n",
        "except KeyError:\n",
        "  print(\"key not found\")\n",
        "except IndexError:\n",
        "  if d.index(a)>=len(d):\n",
        "    print(\"index not found\")"
      ],
      "metadata": {
        "colab": {
          "base_uri": "https://localhost:8080/"
        },
        "id": "TQahdomkFUBV",
        "outputId": "71724bfd-3ec2-46d3-d1f1-6f8273313b9c"
      },
      "execution_count": 42,
      "outputs": [
        {
          "output_type": "stream",
          "name": "stdout",
          "text": [
            "enter a keyj\n",
            "key not found\n"
          ]
        }
      ]
    },
    {
      "cell_type": "markdown",
      "source": [
        "Q20->How would you open a file and read its contents using a context manager in Python?"
      ],
      "metadata": {
        "id": "6UKFzMc6HXrz"
      }
    },
    {
      "cell_type": "code",
      "source": [
        "with open('text1.txt') as my_file:\n",
        "  print(my_file.read())"
      ],
      "metadata": {
        "colab": {
          "base_uri": "https://localhost:8080/"
        },
        "id": "ZTfZbreGHfb1",
        "outputId": "f3576327-4779-4c4c-ded7-2e411e46e8ab"
      },
      "execution_count": 44,
      "outputs": [
        {
          "output_type": "stream",
          "name": "stdout",
          "text": [
            "hello world\n"
          ]
        }
      ]
    },
    {
      "cell_type": "markdown",
      "source": [
        "Q21->Write a Python program that reads a file and prints the number of occurrences of a specific word."
      ],
      "metadata": {
        "id": "z6ugH_mNIKtw"
      }
    },
    {
      "cell_type": "code",
      "source": [
        "f=open(\"text1.txt\",\"r\")\n",
        "a=input(\"enter a word\")\n",
        "b=f.read()\n",
        "print(\"number of occurrences of\",a,\"=\",b.count(a))"
      ],
      "metadata": {
        "colab": {
          "base_uri": "https://localhost:8080/"
        },
        "id": "yCkSc4fpIRYv",
        "outputId": "8f9f3a05-0676-4095-f2db-5c4fe087194f"
      },
      "execution_count": 46,
      "outputs": [
        {
          "output_type": "stream",
          "name": "stdout",
          "text": [
            "enter a wordl\n",
            "number of occurrences of l = 3\n"
          ]
        }
      ]
    },
    {
      "cell_type": "markdown",
      "source": [
        "Q22->How can you check if a file is empty before attempting to read its contents?"
      ],
      "metadata": {
        "id": "LXlFdNhfI-OC"
      }
    },
    {
      "cell_type": "code",
      "source": [
        "with open(\"text.txt\", 'r') as file_obj:\n",
        "    first_char = file_obj.read(1)\n",
        "    if not first_char:\n",
        "        print(\"File is empty\")\n",
        "    else:\n",
        "        print(\"File is NOT empty\")\n"
      ],
      "metadata": {
        "colab": {
          "base_uri": "https://localhost:8080/"
        },
        "id": "lLMovSoyJHba",
        "outputId": "4408bd4c-d74b-4778-9a88-b45a0b792474"
      },
      "execution_count": 48,
      "outputs": [
        {
          "output_type": "stream",
          "name": "stdout",
          "text": [
            "File is NOT empty\n"
          ]
        }
      ]
    },
    {
      "cell_type": "markdown",
      "source": [
        "Q23->Write a Python program that writes to a log file when an error occurs during file handling."
      ],
      "metadata": {
        "id": "1kJ0Y2wCJrS5"
      }
    },
    {
      "cell_type": "code",
      "source": [
        "import logging\n",
        "try:\n",
        "\tprintf(\"PWSkills\")\n",
        "except Exception as Argument:\n",
        "\tlogging.exception(\"Error occurred while printing PWSkills\")\n"
      ],
      "metadata": {
        "colab": {
          "base_uri": "https://localhost:8080/"
        },
        "id": "S_LU8aYqJ027",
        "outputId": "a5d9bbad-069d-4a6f-f2e1-53ba2bdfaf62"
      },
      "execution_count": 50,
      "outputs": [
        {
          "output_type": "stream",
          "name": "stderr",
          "text": [
            "ERROR:root:Error occurred while printing PWSkills\n",
            "Traceback (most recent call last):\n",
            "  File \"<ipython-input-50-2419ed00bc6f>\", line 3, in <cell line: 0>\n",
            "    printf(\"PWSkills\")\n",
            "    ^^^^^^\n",
            "NameError: name 'printf' is not defined\n"
          ]
        }
      ]
    }
  ]
}